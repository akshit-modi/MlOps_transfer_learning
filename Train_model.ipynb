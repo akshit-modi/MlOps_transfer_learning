{
 "cells": [
  {
   "cell_type": "code",
   "execution_count": 1,
   "metadata": {},
   "outputs": [
    {
     "name": "stderr",
     "output_type": "stream",
     "text": [
      "Using TensorFlow backend.\n"
     ]
    }
   ],
   "source": [
    "from keras.models import load_model"
   ]
  },
  {
   "cell_type": "code",
   "execution_count": 2,
   "metadata": {},
   "outputs": [],
   "source": [
    "model= load_model('facedetect.h5')"
   ]
  },
  {
   "cell_type": "code",
   "execution_count": 3,
   "metadata": {},
   "outputs": [],
   "source": [
    "\n",
    "import cv2\n",
    "import numpy as np\n",
    "import PIL\n",
    "import IPython.display as ipd\n",
    "from keras.preprocessing import image"
   ]
  },
  {
   "cell_type": "code",
   "execution_count": 4,
   "metadata": {},
   "outputs": [],
   "source": [
    "face_classifier = cv2.CascadeClassifier('haarcascade_frontalface_default.xml')"
   ]
  },
  {
   "cell_type": "code",
   "execution_count": 5,
   "metadata": {},
   "outputs": [],
   "source": [
    "def face_detect(img, size=0.5):\n",
    "    # Convert image to gray\n",
    "    gray  = cv2.cvtColor(img,cv2.COLOR_BGR2GRAY)\n",
    "    faces = face_classifier.detectMultiScale(gray, 1.3, 5)\n",
    "    if faces is ():\n",
    "        return img, []\n",
    "    for (x,y,w,h) in faces:\n",
    "        cv2.rectangle(img,(x,y),(x+w,y+h),(0,255,255),2)\n",
    "        face = img[y:y+h, x:x+w]\n",
    "        face = cv2.resize(face, (224, 224))          \n",
    "    return img, face"
   ]
  },
  {
   "cell_type": "code",
   "execution_count": 9,
   "metadata": {},
   "outputs": [
    {
     "name": "stdout",
     "output_type": "stream",
     "text": [
      "[[1. 0.]]\n",
      "[[1. 0.]]\n",
      "[[1. 0.]]\n",
      "[[0.99650335 0.00349665]]\n",
      "[[9.9997771e-01 2.2347676e-05]]\n",
      "[[1. 0.]]\n",
      "[[1. 0.]]\n",
      "[[1. 0.]]\n",
      "[[1. 0.]]\n",
      "[[1. 0.]]\n",
      "[[1. 0.]]\n",
      "[[1. 0.]]\n",
      "[[1. 0.]]\n",
      "[[1.0000000e+00 2.7781207e-22]]\n",
      "[[1. 0.]]\n",
      "[[1. 0.]]\n",
      "[[1. 0.]]\n",
      "[[1. 0.]]\n",
      "[[1. 0.]]\n",
      "[[6.705951e-13 1.000000e+00]]\n",
      "[[1. 0.]]\n",
      "[[1.0000000e+00 6.4562422e-15]]\n",
      "[[9.9999976e-01 2.2653083e-07]]\n",
      "[[1. 0.]]\n",
      "[[1.000000e+00 1.763476e-16]]\n",
      "[[1. 0.]]\n",
      "[[1. 0.]]\n",
      "[[1. 0.]]\n",
      "[[1.4540236e-06 9.9999857e-01]]\n",
      "[[1. 0.]]\n",
      "[[1. 0.]]\n",
      "[[1. 0.]]\n",
      "[[1.0000000e+00 1.0969976e-19]]\n",
      "[[1.0338157e-15 1.0000000e+00]]\n",
      "[[2.9417207e-15 1.0000000e+00]]\n",
      "[[6.6897586e-22 1.0000000e+00]]\n",
      "[[1.00000e+00 1.75293e-19]]\n",
      "[[1.000000e+00 2.078078e-34]]\n",
      "[[9.999995e-01 5.002508e-07]]\n",
      "[[1.000000e+00 8.375747e-21]]\n",
      "[[1. 0.]]\n",
      "[[1. 0.]]\n",
      "[[1. 0.]]\n",
      "[[1. 0.]]\n"
     ]
    }
   ],
   "source": [
    "# Open Webcam\n",
    "cap = cv2.VideoCapture(0)\n",
    "\n",
    "while True:\n",
    "\n",
    "    ret, img = cap.read()\n",
    "\n",
    "    image, face = face_detect(img)\n",
    "    face=np.array(face)\n",
    "    face= np.expand_dims(face, axis=0)\n",
    "    if(face.shape==(1,0)):\n",
    "        cv2.putText(image, \"I don't know\", (250, 450), cv2.FONT_HERSHEY_COMPLEX, 1, (0,0,255), 2)\n",
    "        cv2.imshow('Face Recognition prediction', image )\n",
    "    \n",
    "    else:\n",
    "        results = model.predict(face)\n",
    "        print(results)\n",
    "        if(results[0][0] == 1.0):\n",
    "            cv2.putText(image, \"Akshit\", (250, 450), cv2.FONT_HERSHEY_COMPLEX, 1, (0,255,0), 2)\n",
    "            cv2.imshow('Face Recognition prediction', image )\n",
    "\n",
    "        if(results[0][0] != 1.0):\n",
    "            cv2.putText(image, \"Dharmesh\", (250, 450), cv2.FONT_HERSHEY_COMPLEX, 1, (0,255,0), 2)\n",
    "            cv2.imshow('Face Recognition prediction', image )\n",
    "            \n",
    "    if cv2.waitKey(1) == 13:\n",
    "        break\n",
    "\n",
    "cap.release()\n",
    "cv2.destroyAllWindows()"
   ]
  },
  {
   "cell_type": "code",
   "execution_count": null,
   "metadata": {},
   "outputs": [],
   "source": []
  }
 ],
 "metadata": {
  "kernelspec": {
   "display_name": "Python 3",
   "language": "python",
   "name": "python3"
  },
  "language_info": {
   "codemirror_mode": {
    "name": "ipython",
    "version": 3
   },
   "file_extension": ".py",
   "mimetype": "text/x-python",
   "name": "python",
   "nbconvert_exporter": "python",
   "pygments_lexer": "ipython3",
   "version": "3.7.4"
  }
 },
 "nbformat": 4,
 "nbformat_minor": 2
}
